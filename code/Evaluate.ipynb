{
 "cells": [
  {
   "cell_type": "code",
   "execution_count": 1,
   "metadata": {},
   "outputs": [],
   "source": [
    "%load_ext autoreload"
   ]
  },
  {
   "cell_type": "code",
   "execution_count": 2,
   "metadata": {},
   "outputs": [],
   "source": [
    "%autoreload 2"
   ]
  },
  {
   "cell_type": "code",
   "execution_count": 6,
   "metadata": {},
   "outputs": [],
   "source": [
    "import functools\n",
    "import numpy as np\n",
    "import pandas as pd\n",
    "from tqdm import tqdm_notebook\n",
    "\n",
    "from sklearn.feature_extraction.text import TfidfVectorizer"
   ]
  },
  {
   "cell_type": "code",
   "execution_count": 19,
   "metadata": {},
   "outputs": [],
   "source": [
    "import stats\n",
    "import senticnet\n",
    "import features"
   ]
  },
  {
   "cell_type": "code",
   "execution_count": 5,
   "metadata": {},
   "outputs": [],
   "source": [
    "import read_data\n",
    "data = read_data.read_all_datasets()"
   ]
  },
  {
   "cell_type": "markdown",
   "metadata": {},
   "source": [
    "# Extract features"
   ]
  },
  {
   "cell_type": "markdown",
   "metadata": {},
   "source": [
    "### Load some resources first"
   ]
  },
  {
   "cell_type": "code",
   "execution_count": 80,
   "metadata": {},
   "outputs": [],
   "source": [
    "# load some things before, plz\n",
    "affectivespace, affectivespace_vocab = senticnet.load_affectivespace()\n",
    "senticnet5, senticnet5_vocab, senticnet5_full = senticnet.load_senticnet()\n",
    "\n",
    "\n",
    "feats = {data_name: dict() for data_name in data.keys()}"
   ]
  },
  {
   "cell_type": "code",
   "execution_count": 20,
   "metadata": {},
   "outputs": [],
   "source": [
    "emb = features.load_embeddings()"
   ]
  },
  {
   "cell_type": "code",
   "execution_count": 83,
   "metadata": {},
   "outputs": [
    {
     "data": {
      "application/vnd.jupyter.widget-view+json": {
       "model_id": "43e6505d6c4a49d6905fe46410fccf07",
       "version_major": 2,
       "version_minor": 0
      },
      "text/plain": [
       "HBox(children=(IntProgress(value=0, max=5), HTML(value='')))"
      ]
     },
     "metadata": {},
     "output_type": "display_data"
    },
    {
     "name": "stdout",
     "output_type": "stream",
     "text": [
      "\n"
     ]
    },
    {
     "data": {
      "application/vnd.jupyter.widget-view+json": {
       "model_id": "915a474cfeaa40e1a9332d281bd69cda",
       "version_major": 2,
       "version_minor": 0
      },
      "text/plain": [
       "HBox(children=(IntProgress(value=0, max=5), HTML(value='')))"
      ]
     },
     "metadata": {},
     "output_type": "display_data"
    },
    {
     "name": "stdout",
     "output_type": "stream",
     "text": [
      "\n"
     ]
    },
    {
     "data": {
      "application/vnd.jupyter.widget-view+json": {
       "model_id": "38c81b2b20d64507b01f8c2eda1f6541",
       "version_major": 2,
       "version_minor": 0
      },
      "text/plain": [
       "HBox(children=(IntProgress(value=0, max=5), HTML(value='')))"
      ]
     },
     "metadata": {},
     "output_type": "display_data"
    },
    {
     "name": "stdout",
     "output_type": "stream",
     "text": [
      "\n"
     ]
    }
   ],
   "source": [
    "ngrams = dict()\n",
    "for data_name in tqdm_notebook(data.keys()):\n",
    "    ngrams[data_name] = senticnet.extract_ngrams(data[data_name]['text'], (1,5))\n",
    "    \n",
    "custom_lexicon = dict()\n",
    "for data_name in tqdm_notebook(data.keys()):\n",
    "    custom_lexicon[data_name] = features.generate_custom_lexicon(data[data_name])\n",
    "    \n",
    "senticnet5_lexicon = dict()\n",
    "for data_name in tqdm_notebook(data.keys()):\n",
    "    senticnet5_lexicon[data_name] = features.generate_senticnet5_lexicon(data[data_name], senticnet5_full)"
   ]
  },
  {
   "cell_type": "markdown",
   "metadata": {},
   "source": [
    "### Extract the features"
   ]
  },
  {
   "cell_type": "code",
   "execution_count": 86,
   "metadata": {},
   "outputs": [
    {
     "data": {
      "application/vnd.jupyter.widget-view+json": {
       "model_id": "72f3dfba040b4d9a9db11340f507cde6",
       "version_major": 2,
       "version_minor": 0
      },
      "text/plain": [
       "HBox(children=(IntProgress(value=0, max=5), HTML(value='')))"
      ]
     },
     "metadata": {},
     "output_type": "display_data"
    },
    {
     "name": "stdout",
     "output_type": "stream",
     "text": [
      "\n"
     ]
    },
    {
     "data": {
      "application/vnd.jupyter.widget-view+json": {
       "model_id": "53a8c82bdc42450c93da883f9d91da8c",
       "version_major": 2,
       "version_minor": 0
      },
      "text/plain": [
       "HBox(children=(IntProgress(value=0, max=5), HTML(value='')))"
      ]
     },
     "metadata": {},
     "output_type": "display_data"
    },
    {
     "name": "stdout",
     "output_type": "stream",
     "text": [
      "\n"
     ]
    },
    {
     "data": {
      "application/vnd.jupyter.widget-view+json": {
       "model_id": "d2338571a3ba448b9f4a2f5e21416ad2",
       "version_major": 2,
       "version_minor": 0
      },
      "text/plain": [
       "HBox(children=(IntProgress(value=0, max=5), HTML(value='')))"
      ]
     },
     "metadata": {},
     "output_type": "display_data"
    },
    {
     "name": "stdout",
     "output_type": "stream",
     "text": [
      "\n"
     ]
    },
    {
     "data": {
      "application/vnd.jupyter.widget-view+json": {
       "model_id": "429ce24603664241bb5216636fab4115",
       "version_major": 2,
       "version_minor": 0
      },
      "text/plain": [
       "HBox(children=(IntProgress(value=0, max=5), HTML(value='')))"
      ]
     },
     "metadata": {},
     "output_type": "display_data"
    },
    {
     "name": "stderr",
     "output_type": "stream",
     "text": [
      "/usr/local/lib/python3.5/dist-packages/sklearn/feature_selection/_univariate_selection.py:114: UserWarning: Features [0 3] are constant.\n",
      "  UserWarning)\n",
      "/usr/local/lib/python3.5/dist-packages/sklearn/feature_selection/_univariate_selection.py:115: RuntimeWarning: invalid value encountered in true_divide\n",
      "  f = msb / msw\n"
     ]
    },
    {
     "name": "stdout",
     "output_type": "stream",
     "text": [
      "\n"
     ]
    },
    {
     "data": {
      "application/vnd.jupyter.widget-view+json": {
       "model_id": "b70be21351ac435b9183e64f3375b24f",
       "version_major": 2,
       "version_minor": 0
      },
      "text/plain": [
       "HBox(children=(IntProgress(value=0, max=5), HTML(value='')))"
      ]
     },
     "metadata": {},
     "output_type": "display_data"
    },
    {
     "name": "stdout",
     "output_type": "stream",
     "text": [
      "\n"
     ]
    }
   ],
   "source": [
    "# affectivespace\n",
    "for data_name in tqdm_notebook(data.keys()):\n",
    "    feats[data_name]['affectivespace'] = senticnet.extract_affectivespace_features(\n",
    "        ngrams[data_name],\n",
    "        affectivespace=affectivespace,\n",
    "        affectivespace_vocab= affectivespace_vocab,\n",
    "    )\n",
    "\n",
    "# senticnet5\n",
    "for data_name in tqdm_notebook(data.keys()):\n",
    "    feats[data_name]['senticnet5'] = senticnet.extract_senticnet_features(\n",
    "        ngrams[data_name],\n",
    "        senticnet=senticnet5,\n",
    "        senticnet_vocab= senticnet5_vocab,\n",
    "    )\n",
    "    \n",
    "# TF-IDF\n",
    "for data_name in tqdm_notebook(data.keys()):\n",
    "    tfidf = TfidfVectorizer(ngram_range=(1,1), max_features=5000)\n",
    "    feats[data_name]['tfidf'] = tfidf.fit_transform(data[data_name]['text'].values)\n",
    "    \n",
    "# simon - custom lexicon\n",
    "for data_name in tqdm_notebook(data.keys()):\n",
    "    feats[data_name]['simon-custom'] = features.simon_feat_extractor(\n",
    "        dataset=data[data_name],\n",
    "        lexicon=custom_lexicon[data_name],\n",
    "        embedding_model=emb,\n",
    "        n_lexicon_words=200,\n",
    "        percentage=100,\n",
    ")\n",
    "    \n",
    "# simon - sentincnet5 lexicon\n",
    "for data_name in tqdm_notebook(data.keys()):\n",
    "    feats[data_name]['simon-senticnet5'] = features.simon_feat_extractor(\n",
    "        dataset=data[data_name],\n",
    "        lexicon=senticnet5_lexicon[data_name],\n",
    "        embedding_model=emb,\n",
    "        n_lexicon_words=200,\n",
    "        percentage=100,\n",
    ")"
   ]
  },
  {
   "cell_type": "code",
   "execution_count": 88,
   "metadata": {},
   "outputs": [
    {
     "data": {
      "application/vnd.jupyter.widget-view+json": {
       "model_id": "f65c55d6a9164bf3a3c5256131a5de33",
       "version_major": 2,
       "version_minor": 0
      },
      "text/plain": [
       "HBox(children=(IntProgress(value=0, max=5), HTML(value='')))"
      ]
     },
     "metadata": {},
     "output_type": "display_data"
    },
    {
     "name": "stdout",
     "output_type": "stream",
     "text": [
      "\n"
     ]
    },
    {
     "data": {
      "application/vnd.jupyter.widget-view+json": {
       "model_id": "cfd050338ed74d9a8fb0f49b5d667d64",
       "version_major": 2,
       "version_minor": 0
      },
      "text/plain": [
       "HBox(children=(IntProgress(value=0, max=5), HTML(value='')))"
      ]
     },
     "metadata": {},
     "output_type": "display_data"
    },
    {
     "name": "stdout",
     "output_type": "stream",
     "text": [
      "\n"
     ]
    },
    {
     "data": {
      "application/vnd.jupyter.widget-view+json": {
       "model_id": "b6dc0d32e24b493ba29b07634b661a13",
       "version_major": 2,
       "version_minor": 0
      },
      "text/plain": [
       "HBox(children=(IntProgress(value=0, max=5), HTML(value='')))"
      ]
     },
     "metadata": {},
     "output_type": "display_data"
    },
    {
     "name": "stdout",
     "output_type": "stream",
     "text": [
      "\n"
     ]
    },
    {
     "data": {
      "application/vnd.jupyter.widget-view+json": {
       "model_id": "29de09ccb9274db1bee0baacc7da2006",
       "version_major": 2,
       "version_minor": 0
      },
      "text/plain": [
       "HBox(children=(IntProgress(value=0, max=5), HTML(value='')))"
      ]
     },
     "metadata": {},
     "output_type": "display_data"
    },
    {
     "name": "stdout",
     "output_type": "stream",
     "text": [
      "\n"
     ]
    },
    {
     "data": {
      "application/vnd.jupyter.widget-view+json": {
       "model_id": "d8a1851f8b9646abac78c9d2b271d58b",
       "version_major": 2,
       "version_minor": 0
      },
      "text/plain": [
       "HBox(children=(IntProgress(value=0, max=5), HTML(value='')))"
      ]
     },
     "metadata": {},
     "output_type": "display_data"
    },
    {
     "name": "stdout",
     "output_type": "stream",
     "text": [
      "\n"
     ]
    },
    {
     "data": {
      "application/vnd.jupyter.widget-view+json": {
       "model_id": "53a40a358c424e279684304843e9e516",
       "version_major": 2,
       "version_minor": 0
      },
      "text/plain": [
       "HBox(children=(IntProgress(value=0, max=5), HTML(value='')))"
      ]
     },
     "metadata": {},
     "output_type": "display_data"
    },
    {
     "name": "stdout",
     "output_type": "stream",
     "text": [
      "\n"
     ]
    },
    {
     "data": {
      "application/vnd.jupyter.widget-view+json": {
       "model_id": "dfb95c6aa4b24ff593da087b7a4e12c0",
       "version_major": 2,
       "version_minor": 0
      },
      "text/plain": [
       "HBox(children=(IntProgress(value=0, max=5), HTML(value='')))"
      ]
     },
     "metadata": {},
     "output_type": "display_data"
    },
    {
     "name": "stdout",
     "output_type": "stream",
     "text": [
      "\n"
     ]
    },
    {
     "data": {
      "application/vnd.jupyter.widget-view+json": {
       "model_id": "847cc7d3016f483787c92b5b54283116",
       "version_major": 2,
       "version_minor": 0
      },
      "text/plain": [
       "HBox(children=(IntProgress(value=0, max=5), HTML(value='')))"
      ]
     },
     "metadata": {},
     "output_type": "display_data"
    },
    {
     "name": "stdout",
     "output_type": "stream",
     "text": [
      "\n"
     ]
    },
    {
     "data": {
      "application/vnd.jupyter.widget-view+json": {
       "model_id": "46bbec72c83a42e388fd33cceef83817",
       "version_major": 2,
       "version_minor": 0
      },
      "text/plain": [
       "HBox(children=(IntProgress(value=0, max=5), HTML(value='')))"
      ]
     },
     "metadata": {},
     "output_type": "display_data"
    },
    {
     "name": "stdout",
     "output_type": "stream",
     "text": [
      "\n"
     ]
    },
    {
     "data": {
      "application/vnd.jupyter.widget-view+json": {
       "model_id": "5857197c78a34bd89a1d357fa88b1980",
       "version_major": 2,
       "version_minor": 0
      },
      "text/plain": [
       "HBox(children=(IntProgress(value=0, max=5), HTML(value='')))"
      ]
     },
     "metadata": {},
     "output_type": "display_data"
    },
    {
     "name": "stdout",
     "output_type": "stream",
     "text": [
      "\n"
     ]
    }
   ],
   "source": [
    "# affectivespace + senticnet5\n",
    "for data_name in tqdm_notebook(data.keys()):\n",
    "    feats[data_name]['affectivespace+senticnet5'] = np.concatenate((\n",
    "        feats[data_name]['affectivespace'],\n",
    "        feats[data_name]['senticnet5'],\n",
    "    ), axis=1)\n",
    "    \n",
    "# tfidf + affectivespace\n",
    "for data_name in tqdm_notebook(data.keys()):\n",
    "    feats[data_name]['tfidf+affectivespace'] = np.concatenate((\n",
    "        feats[data_name]['tfidf'].toarray(),\n",
    "        feats[data_name]['affectivespace'],\n",
    "    ), axis=1)\n",
    "    \n",
    "# tfidf + senticnet5\n",
    "for data_name in tqdm_notebook(data.keys()):\n",
    "    feats[data_name]['tfidf+senticnet5'] = np.concatenate((\n",
    "        feats[data_name]['tfidf'].toarray(),\n",
    "        feats[data_name]['senticnet5'],\n",
    "    ), axis=1)\n",
    "    \n",
    "# tfidf + affectivespace + senticnet5\n",
    "for data_name in tqdm_notebook(data.keys()):\n",
    "    feats[data_name]['tfidf+affectivespace+senticnet5'] = np.concatenate((\n",
    "        feats[data_name]['tfidf'].toarray(),\n",
    "        feats[data_name]['affectivespace'],\n",
    "        feats[data_name]['senticnet5'],\n",
    "    ), axis=1)\n",
    "    \n",
    "# simon-custom + affectivespace\n",
    "for data_name in tqdm_notebook(data.keys()):\n",
    "    feats[data_name]['simon-custom+affectivespace'] = np.concatenate((\n",
    "        feats[data_name]['simon-custom'],\n",
    "        feats[data_name]['affectivespace'],\n",
    "    ), axis=1)\n",
    "    \n",
    "# simon-custom + senticnet5\n",
    "for data_name in tqdm_notebook(data.keys()):\n",
    "    feats[data_name]['simon-custom+senticnet5'] = np.concatenate((\n",
    "        feats[data_name]['simon-custom'],\n",
    "        feats[data_name]['senticnet5'],\n",
    "    ), axis=1)\n",
    "    \n",
    "# simon-custom + affectivespace + senticnet5\n",
    "for data_name in tqdm_notebook(data.keys()):\n",
    "    feats[data_name]['simon-custom+affectivespace+senticnet5'] = np.concatenate((\n",
    "        feats[data_name]['simon-custom'],\n",
    "        feats[data_name]['affectivespace'],\n",
    "        feats[data_name]['senticnet5'],\n",
    "    ), axis=1)\n",
    "\n",
    "# simon-senticnet5 + affectivespace\n",
    "for data_name in tqdm_notebook(data.keys()):\n",
    "    feats[data_name]['simon-senticnet5+affectivespace'] = np.concatenate((\n",
    "        feats[data_name]['simon-senticnet5'],\n",
    "        feats[data_name]['affectivespace'],\n",
    "    ), axis=1)\n",
    "    \n",
    "# simon-senticnet5 + senticnet5\n",
    "for data_name in tqdm_notebook(data.keys()):\n",
    "    feats[data_name]['simon-senticnet5+senticnet5'] = np.concatenate((\n",
    "        feats[data_name]['simon-senticnet5'],\n",
    "        feats[data_name]['senticnet5'],\n",
    "    ), axis=1)\n",
    "    \n",
    "# simon-senticnet5 + affectivespace + senticnet5\n",
    "for data_name in tqdm_notebook(data.keys()):\n",
    "    feats[data_name]['simon-senticnet5+affectivespace+senticnet5'] = np.concatenate((\n",
    "        feats[data_name]['simon-senticnet5'],\n",
    "        feats[data_name]['affectivespace'],\n",
    "        feats[data_name]['senticnet5'],\n",
    "    ), axis=1)\n"
   ]
  },
  {
   "cell_type": "markdown",
   "metadata": {},
   "source": [
    "# Evaluate"
   ]
  },
  {
   "cell_type": "code",
   "execution_count": null,
   "metadata": {},
   "outputs": [
    {
     "data": {
      "application/vnd.jupyter.widget-view+json": {
       "model_id": "5b97bdd232554107bdd859f0b340a6af",
       "version_major": 2,
       "version_minor": 0
      },
      "text/plain": [
       "HBox(children=(IntProgress(value=0, description='dataset', max=5, style=ProgressStyle(description_width='initi…"
      ]
     },
     "metadata": {},
     "output_type": "display_data"
    },
    {
     "data": {
      "application/vnd.jupyter.widget-view+json": {
       "model_id": "6a64b93e4122419097949a6e94cf4f92",
       "version_major": 2,
       "version_minor": 0
      },
      "text/plain": [
       "HBox(children=(IntProgress(value=0, description='clf', max=2, style=ProgressStyle(description_width='initial')…"
      ]
     },
     "metadata": {},
     "output_type": "display_data"
    },
    {
     "name": "stderr",
     "output_type": "stream",
     "text": [
      "/usr/local/lib/python3.5/dist-packages/sklearn/svm/_base.py:947: ConvergenceWarning: Liblinear failed to converge, increase the number of iterations.\n",
      "  \"the number of iterations.\", ConvergenceWarning)\n",
      "/usr/local/lib/python3.5/dist-packages/sklearn/svm/_base.py:947: ConvergenceWarning: Liblinear failed to converge, increase the number of iterations.\n",
      "  \"the number of iterations.\", ConvergenceWarning)\n",
      "/usr/local/lib/python3.5/dist-packages/sklearn/svm/_base.py:947: ConvergenceWarning: Liblinear failed to converge, increase the number of iterations.\n",
      "  \"the number of iterations.\", ConvergenceWarning)\n",
      "/usr/local/lib/python3.5/dist-packages/sklearn/svm/_base.py:947: ConvergenceWarning: Liblinear failed to converge, increase the number of iterations.\n",
      "  \"the number of iterations.\", ConvergenceWarning)\n",
      "/usr/local/lib/python3.5/dist-packages/sklearn/svm/_base.py:947: ConvergenceWarning: Liblinear failed to converge, increase the number of iterations.\n",
      "  \"the number of iterations.\", ConvergenceWarning)\n",
      "/usr/local/lib/python3.5/dist-packages/sklearn/svm/_base.py:947: ConvergenceWarning: Liblinear failed to converge, increase the number of iterations.\n",
      "  \"the number of iterations.\", ConvergenceWarning)\n",
      "/usr/local/lib/python3.5/dist-packages/sklearn/svm/_base.py:947: ConvergenceWarning: Liblinear failed to converge, increase the number of iterations.\n",
      "  \"the number of iterations.\", ConvergenceWarning)\n",
      "/usr/local/lib/python3.5/dist-packages/sklearn/svm/_base.py:947: ConvergenceWarning: Liblinear failed to converge, increase the number of iterations.\n",
      "  \"the number of iterations.\", ConvergenceWarning)\n",
      "/usr/local/lib/python3.5/dist-packages/sklearn/svm/_base.py:947: ConvergenceWarning: Liblinear failed to converge, increase the number of iterations.\n",
      "  \"the number of iterations.\", ConvergenceWarning)\n",
      "/usr/local/lib/python3.5/dist-packages/sklearn/svm/_base.py:947: ConvergenceWarning: Liblinear failed to converge, increase the number of iterations.\n",
      "  \"the number of iterations.\", ConvergenceWarning)\n",
      "/usr/local/lib/python3.5/dist-packages/sklearn/svm/_base.py:947: ConvergenceWarning: Liblinear failed to converge, increase the number of iterations.\n",
      "  \"the number of iterations.\", ConvergenceWarning)\n",
      "/usr/local/lib/python3.5/dist-packages/sklearn/svm/_base.py:947: ConvergenceWarning: Liblinear failed to converge, increase the number of iterations.\n",
      "  \"the number of iterations.\", ConvergenceWarning)\n",
      "/usr/local/lib/python3.5/dist-packages/sklearn/svm/_base.py:947: ConvergenceWarning: Liblinear failed to converge, increase the number of iterations.\n",
      "  \"the number of iterations.\", ConvergenceWarning)\n",
      "/usr/local/lib/python3.5/dist-packages/sklearn/svm/_base.py:947: ConvergenceWarning: Liblinear failed to converge, increase the number of iterations.\n",
      "  \"the number of iterations.\", ConvergenceWarning)\n",
      "/usr/local/lib/python3.5/dist-packages/sklearn/svm/_base.py:947: ConvergenceWarning: Liblinear failed to converge, increase the number of iterations.\n",
      "  \"the number of iterations.\", ConvergenceWarning)\n",
      "/usr/local/lib/python3.5/dist-packages/sklearn/svm/_base.py:947: ConvergenceWarning: Liblinear failed to converge, increase the number of iterations.\n",
      "  \"the number of iterations.\", ConvergenceWarning)\n",
      "/usr/local/lib/python3.5/dist-packages/sklearn/svm/_base.py:947: ConvergenceWarning: Liblinear failed to converge, increase the number of iterations.\n",
      "  \"the number of iterations.\", ConvergenceWarning)\n",
      "/usr/local/lib/python3.5/dist-packages/sklearn/svm/_base.py:947: ConvergenceWarning: Liblinear failed to converge, increase the number of iterations.\n",
      "  \"the number of iterations.\", ConvergenceWarning)\n",
      "/usr/local/lib/python3.5/dist-packages/sklearn/svm/_base.py:947: ConvergenceWarning: Liblinear failed to converge, increase the number of iterations.\n",
      "  \"the number of iterations.\", ConvergenceWarning)\n",
      "/usr/local/lib/python3.5/dist-packages/sklearn/svm/_base.py:947: ConvergenceWarning: Liblinear failed to converge, increase the number of iterations.\n",
      "  \"the number of iterations.\", ConvergenceWarning)\n",
      "/usr/local/lib/python3.5/dist-packages/sklearn/svm/_base.py:947: ConvergenceWarning: Liblinear failed to converge, increase the number of iterations.\n",
      "  \"the number of iterations.\", ConvergenceWarning)\n",
      "/usr/local/lib/python3.5/dist-packages/sklearn/svm/_base.py:947: ConvergenceWarning: Liblinear failed to converge, increase the number of iterations.\n",
      "  \"the number of iterations.\", ConvergenceWarning)\n",
      "/usr/local/lib/python3.5/dist-packages/sklearn/svm/_base.py:947: ConvergenceWarning: Liblinear failed to converge, increase the number of iterations.\n",
      "  \"the number of iterations.\", ConvergenceWarning)\n",
      "/usr/local/lib/python3.5/dist-packages/sklearn/svm/_base.py:947: ConvergenceWarning: Liblinear failed to converge, increase the number of iterations.\n",
      "  \"the number of iterations.\", ConvergenceWarning)\n",
      "/usr/local/lib/python3.5/dist-packages/sklearn/svm/_base.py:947: ConvergenceWarning: Liblinear failed to converge, increase the number of iterations.\n",
      "  \"the number of iterations.\", ConvergenceWarning)\n",
      "/usr/local/lib/python3.5/dist-packages/sklearn/svm/_base.py:947: ConvergenceWarning: Liblinear failed to converge, increase the number of iterations.\n",
      "  \"the number of iterations.\", ConvergenceWarning)\n",
      "/usr/local/lib/python3.5/dist-packages/sklearn/svm/_base.py:947: ConvergenceWarning: Liblinear failed to converge, increase the number of iterations.\n",
      "  \"the number of iterations.\", ConvergenceWarning)\n",
      "/usr/local/lib/python3.5/dist-packages/sklearn/svm/_base.py:947: ConvergenceWarning: Liblinear failed to converge, increase the number of iterations.\n",
      "  \"the number of iterations.\", ConvergenceWarning)\n",
      "/usr/local/lib/python3.5/dist-packages/sklearn/svm/_base.py:947: ConvergenceWarning: Liblinear failed to converge, increase the number of iterations.\n",
      "  \"the number of iterations.\", ConvergenceWarning)\n",
      "/usr/local/lib/python3.5/dist-packages/sklearn/svm/_base.py:947: ConvergenceWarning: Liblinear failed to converge, increase the number of iterations.\n",
      "  \"the number of iterations.\", ConvergenceWarning)\n",
      "/usr/local/lib/python3.5/dist-packages/sklearn/svm/_base.py:947: ConvergenceWarning: Liblinear failed to converge, increase the number of iterations.\n",
      "  \"the number of iterations.\", ConvergenceWarning)\n",
      "/usr/local/lib/python3.5/dist-packages/sklearn/svm/_base.py:947: ConvergenceWarning: Liblinear failed to converge, increase the number of iterations.\n",
      "  \"the number of iterations.\", ConvergenceWarning)\n",
      "/usr/local/lib/python3.5/dist-packages/sklearn/svm/_base.py:947: ConvergenceWarning: Liblinear failed to converge, increase the number of iterations.\n",
      "  \"the number of iterations.\", ConvergenceWarning)\n",
      "/usr/local/lib/python3.5/dist-packages/sklearn/svm/_base.py:947: ConvergenceWarning: Liblinear failed to converge, increase the number of iterations.\n",
      "  \"the number of iterations.\", ConvergenceWarning)\n",
      "/usr/local/lib/python3.5/dist-packages/sklearn/svm/_base.py:947: ConvergenceWarning: Liblinear failed to converge, increase the number of iterations.\n",
      "  \"the number of iterations.\", ConvergenceWarning)\n",
      "/usr/local/lib/python3.5/dist-packages/sklearn/svm/_base.py:947: ConvergenceWarning: Liblinear failed to converge, increase the number of iterations.\n",
      "  \"the number of iterations.\", ConvergenceWarning)\n",
      "/usr/local/lib/python3.5/dist-packages/sklearn/svm/_base.py:947: ConvergenceWarning: Liblinear failed to converge, increase the number of iterations.\n",
      "  \"the number of iterations.\", ConvergenceWarning)\n",
      "/usr/local/lib/python3.5/dist-packages/sklearn/svm/_base.py:947: ConvergenceWarning: Liblinear failed to converge, increase the number of iterations.\n",
      "  \"the number of iterations.\", ConvergenceWarning)\n",
      "/usr/local/lib/python3.5/dist-packages/sklearn/svm/_base.py:947: ConvergenceWarning: Liblinear failed to converge, increase the number of iterations.\n",
      "  \"the number of iterations.\", ConvergenceWarning)\n",
      "/usr/local/lib/python3.5/dist-packages/sklearn/svm/_base.py:947: ConvergenceWarning: Liblinear failed to converge, increase the number of iterations.\n",
      "  \"the number of iterations.\", ConvergenceWarning)\n",
      "/usr/local/lib/python3.5/dist-packages/sklearn/svm/_base.py:947: ConvergenceWarning: Liblinear failed to converge, increase the number of iterations.\n",
      "  \"the number of iterations.\", ConvergenceWarning)\n"
     ]
    },
    {
     "name": "stderr",
     "output_type": "stream",
     "text": [
      "/usr/local/lib/python3.5/dist-packages/sklearn/svm/_base.py:947: ConvergenceWarning: Liblinear failed to converge, increase the number of iterations.\n",
      "  \"the number of iterations.\", ConvergenceWarning)\n",
      "/usr/local/lib/python3.5/dist-packages/sklearn/svm/_base.py:947: ConvergenceWarning: Liblinear failed to converge, increase the number of iterations.\n",
      "  \"the number of iterations.\", ConvergenceWarning)\n",
      "/usr/local/lib/python3.5/dist-packages/sklearn/svm/_base.py:947: ConvergenceWarning: Liblinear failed to converge, increase the number of iterations.\n",
      "  \"the number of iterations.\", ConvergenceWarning)\n",
      "/usr/local/lib/python3.5/dist-packages/sklearn/svm/_base.py:947: ConvergenceWarning: Liblinear failed to converge, increase the number of iterations.\n",
      "  \"the number of iterations.\", ConvergenceWarning)\n",
      "/usr/local/lib/python3.5/dist-packages/sklearn/svm/_base.py:947: ConvergenceWarning: Liblinear failed to converge, increase the number of iterations.\n",
      "  \"the number of iterations.\", ConvergenceWarning)\n",
      "/usr/local/lib/python3.5/dist-packages/sklearn/svm/_base.py:947: ConvergenceWarning: Liblinear failed to converge, increase the number of iterations.\n",
      "  \"the number of iterations.\", ConvergenceWarning)\n",
      "/usr/local/lib/python3.5/dist-packages/sklearn/svm/_base.py:947: ConvergenceWarning: Liblinear failed to converge, increase the number of iterations.\n",
      "  \"the number of iterations.\", ConvergenceWarning)\n",
      "/usr/local/lib/python3.5/dist-packages/sklearn/svm/_base.py:947: ConvergenceWarning: Liblinear failed to converge, increase the number of iterations.\n",
      "  \"the number of iterations.\", ConvergenceWarning)\n",
      "/usr/local/lib/python3.5/dist-packages/sklearn/svm/_base.py:947: ConvergenceWarning: Liblinear failed to converge, increase the number of iterations.\n",
      "  \"the number of iterations.\", ConvergenceWarning)\n",
      "/usr/local/lib/python3.5/dist-packages/sklearn/svm/_base.py:947: ConvergenceWarning: Liblinear failed to converge, increase the number of iterations.\n",
      "  \"the number of iterations.\", ConvergenceWarning)\n",
      "/usr/local/lib/python3.5/dist-packages/sklearn/svm/_base.py:947: ConvergenceWarning: Liblinear failed to converge, increase the number of iterations.\n",
      "  \"the number of iterations.\", ConvergenceWarning)\n",
      "/usr/local/lib/python3.5/dist-packages/sklearn/svm/_base.py:947: ConvergenceWarning: Liblinear failed to converge, increase the number of iterations.\n",
      "  \"the number of iterations.\", ConvergenceWarning)\n",
      "/usr/local/lib/python3.5/dist-packages/sklearn/svm/_base.py:947: ConvergenceWarning: Liblinear failed to converge, increase the number of iterations.\n",
      "  \"the number of iterations.\", ConvergenceWarning)\n",
      "/usr/local/lib/python3.5/dist-packages/sklearn/svm/_base.py:947: ConvergenceWarning: Liblinear failed to converge, increase the number of iterations.\n",
      "  \"the number of iterations.\", ConvergenceWarning)\n",
      "/usr/local/lib/python3.5/dist-packages/sklearn/svm/_base.py:947: ConvergenceWarning: Liblinear failed to converge, increase the number of iterations.\n",
      "  \"the number of iterations.\", ConvergenceWarning)\n",
      "/usr/local/lib/python3.5/dist-packages/sklearn/svm/_base.py:947: ConvergenceWarning: Liblinear failed to converge, increase the number of iterations.\n",
      "  \"the number of iterations.\", ConvergenceWarning)\n",
      "/usr/local/lib/python3.5/dist-packages/sklearn/svm/_base.py:947: ConvergenceWarning: Liblinear failed to converge, increase the number of iterations.\n",
      "  \"the number of iterations.\", ConvergenceWarning)\n",
      "/usr/local/lib/python3.5/dist-packages/sklearn/svm/_base.py:947: ConvergenceWarning: Liblinear failed to converge, increase the number of iterations.\n",
      "  \"the number of iterations.\", ConvergenceWarning)\n",
      "/usr/local/lib/python3.5/dist-packages/sklearn/svm/_base.py:947: ConvergenceWarning: Liblinear failed to converge, increase the number of iterations.\n",
      "  \"the number of iterations.\", ConvergenceWarning)\n",
      "/usr/local/lib/python3.5/dist-packages/sklearn/svm/_base.py:947: ConvergenceWarning: Liblinear failed to converge, increase the number of iterations.\n",
      "  \"the number of iterations.\", ConvergenceWarning)\n",
      "/usr/local/lib/python3.5/dist-packages/sklearn/svm/_base.py:947: ConvergenceWarning: Liblinear failed to converge, increase the number of iterations.\n",
      "  \"the number of iterations.\", ConvergenceWarning)\n",
      "/usr/local/lib/python3.5/dist-packages/sklearn/svm/_base.py:947: ConvergenceWarning: Liblinear failed to converge, increase the number of iterations.\n",
      "  \"the number of iterations.\", ConvergenceWarning)\n",
      "/usr/local/lib/python3.5/dist-packages/sklearn/svm/_base.py:947: ConvergenceWarning: Liblinear failed to converge, increase the number of iterations.\n",
      "  \"the number of iterations.\", ConvergenceWarning)\n",
      "/usr/local/lib/python3.5/dist-packages/sklearn/svm/_base.py:947: ConvergenceWarning: Liblinear failed to converge, increase the number of iterations.\n",
      "  \"the number of iterations.\", ConvergenceWarning)\n",
      "/usr/local/lib/python3.5/dist-packages/sklearn/svm/_base.py:947: ConvergenceWarning: Liblinear failed to converge, increase the number of iterations.\n",
      "  \"the number of iterations.\", ConvergenceWarning)\n",
      "/usr/local/lib/python3.5/dist-packages/sklearn/svm/_base.py:947: ConvergenceWarning: Liblinear failed to converge, increase the number of iterations.\n",
      "  \"the number of iterations.\", ConvergenceWarning)\n",
      "/usr/local/lib/python3.5/dist-packages/sklearn/svm/_base.py:947: ConvergenceWarning: Liblinear failed to converge, increase the number of iterations.\n",
      "  \"the number of iterations.\", ConvergenceWarning)\n",
      "/usr/local/lib/python3.5/dist-packages/sklearn/svm/_base.py:947: ConvergenceWarning: Liblinear failed to converge, increase the number of iterations.\n",
      "  \"the number of iterations.\", ConvergenceWarning)\n",
      "/usr/local/lib/python3.5/dist-packages/sklearn/svm/_base.py:947: ConvergenceWarning: Liblinear failed to converge, increase the number of iterations.\n",
      "  \"the number of iterations.\", ConvergenceWarning)\n",
      "/usr/local/lib/python3.5/dist-packages/sklearn/svm/_base.py:947: ConvergenceWarning: Liblinear failed to converge, increase the number of iterations.\n",
      "  \"the number of iterations.\", ConvergenceWarning)\n",
      "/usr/local/lib/python3.5/dist-packages/sklearn/svm/_base.py:947: ConvergenceWarning: Liblinear failed to converge, increase the number of iterations.\n",
      "  \"the number of iterations.\", ConvergenceWarning)\n",
      "/usr/local/lib/python3.5/dist-packages/sklearn/svm/_base.py:947: ConvergenceWarning: Liblinear failed to converge, increase the number of iterations.\n",
      "  \"the number of iterations.\", ConvergenceWarning)\n",
      "/usr/local/lib/python3.5/dist-packages/sklearn/svm/_base.py:947: ConvergenceWarning: Liblinear failed to converge, increase the number of iterations.\n",
      "  \"the number of iterations.\", ConvergenceWarning)\n",
      "/usr/local/lib/python3.5/dist-packages/sklearn/svm/_base.py:947: ConvergenceWarning: Liblinear failed to converge, increase the number of iterations.\n",
      "  \"the number of iterations.\", ConvergenceWarning)\n",
      "/usr/local/lib/python3.5/dist-packages/sklearn/svm/_base.py:947: ConvergenceWarning: Liblinear failed to converge, increase the number of iterations.\n",
      "  \"the number of iterations.\", ConvergenceWarning)\n",
      "/usr/local/lib/python3.5/dist-packages/sklearn/svm/_base.py:947: ConvergenceWarning: Liblinear failed to converge, increase the number of iterations.\n",
      "  \"the number of iterations.\", ConvergenceWarning)\n",
      "/usr/local/lib/python3.5/dist-packages/sklearn/svm/_base.py:947: ConvergenceWarning: Liblinear failed to converge, increase the number of iterations.\n",
      "  \"the number of iterations.\", ConvergenceWarning)\n",
      "/usr/local/lib/python3.5/dist-packages/sklearn/svm/_base.py:947: ConvergenceWarning: Liblinear failed to converge, increase the number of iterations.\n",
      "  \"the number of iterations.\", ConvergenceWarning)\n",
      "/usr/local/lib/python3.5/dist-packages/sklearn/svm/_base.py:947: ConvergenceWarning: Liblinear failed to converge, increase the number of iterations.\n",
      "  \"the number of iterations.\", ConvergenceWarning)\n"
     ]
    },
    {
     "data": {
      "application/vnd.jupyter.widget-view+json": {
       "model_id": "6a28bdf5258c4e17ba25fab835bd3004",
       "version_major": 2,
       "version_minor": 0
      },
      "text/plain": [
       "HBox(children=(IntProgress(value=0, description='clf', max=2, style=ProgressStyle(description_width='initial')…"
      ]
     },
     "metadata": {},
     "output_type": "display_data"
    },
    {
     "name": "stderr",
     "output_type": "stream",
     "text": [
      "/usr/local/lib/python3.5/dist-packages/sklearn/svm/_base.py:947: ConvergenceWarning: Liblinear failed to converge, increase the number of iterations.\n",
      "  \"the number of iterations.\", ConvergenceWarning)\n",
      "/usr/local/lib/python3.5/dist-packages/sklearn/svm/_base.py:947: ConvergenceWarning: Liblinear failed to converge, increase the number of iterations.\n",
      "  \"the number of iterations.\", ConvergenceWarning)\n",
      "/usr/local/lib/python3.5/dist-packages/sklearn/svm/_base.py:947: ConvergenceWarning: Liblinear failed to converge, increase the number of iterations.\n",
      "  \"the number of iterations.\", ConvergenceWarning)\n",
      "/usr/local/lib/python3.5/dist-packages/sklearn/svm/_base.py:947: ConvergenceWarning: Liblinear failed to converge, increase the number of iterations.\n",
      "  \"the number of iterations.\", ConvergenceWarning)\n",
      "/usr/local/lib/python3.5/dist-packages/sklearn/svm/_base.py:947: ConvergenceWarning: Liblinear failed to converge, increase the number of iterations.\n",
      "  \"the number of iterations.\", ConvergenceWarning)\n",
      "/usr/local/lib/python3.5/dist-packages/sklearn/svm/_base.py:947: ConvergenceWarning: Liblinear failed to converge, increase the number of iterations.\n",
      "  \"the number of iterations.\", ConvergenceWarning)\n",
      "/usr/local/lib/python3.5/dist-packages/sklearn/svm/_base.py:947: ConvergenceWarning: Liblinear failed to converge, increase the number of iterations.\n",
      "  \"the number of iterations.\", ConvergenceWarning)\n",
      "/usr/local/lib/python3.5/dist-packages/sklearn/svm/_base.py:947: ConvergenceWarning: Liblinear failed to converge, increase the number of iterations.\n",
      "  \"the number of iterations.\", ConvergenceWarning)\n",
      "/usr/local/lib/python3.5/dist-packages/sklearn/svm/_base.py:947: ConvergenceWarning: Liblinear failed to converge, increase the number of iterations.\n",
      "  \"the number of iterations.\", ConvergenceWarning)\n",
      "/usr/local/lib/python3.5/dist-packages/sklearn/svm/_base.py:947: ConvergenceWarning: Liblinear failed to converge, increase the number of iterations.\n",
      "  \"the number of iterations.\", ConvergenceWarning)\n",
      "/usr/local/lib/python3.5/dist-packages/sklearn/svm/_base.py:947: ConvergenceWarning: Liblinear failed to converge, increase the number of iterations.\n",
      "  \"the number of iterations.\", ConvergenceWarning)\n",
      "/usr/local/lib/python3.5/dist-packages/sklearn/svm/_base.py:947: ConvergenceWarning: Liblinear failed to converge, increase the number of iterations.\n",
      "  \"the number of iterations.\", ConvergenceWarning)\n",
      "/usr/local/lib/python3.5/dist-packages/sklearn/svm/_base.py:947: ConvergenceWarning: Liblinear failed to converge, increase the number of iterations.\n",
      "  \"the number of iterations.\", ConvergenceWarning)\n",
      "/usr/local/lib/python3.5/dist-packages/sklearn/svm/_base.py:947: ConvergenceWarning: Liblinear failed to converge, increase the number of iterations.\n",
      "  \"the number of iterations.\", ConvergenceWarning)\n",
      "/usr/local/lib/python3.5/dist-packages/sklearn/svm/_base.py:947: ConvergenceWarning: Liblinear failed to converge, increase the number of iterations.\n",
      "  \"the number of iterations.\", ConvergenceWarning)\n",
      "/usr/local/lib/python3.5/dist-packages/sklearn/svm/_base.py:947: ConvergenceWarning: Liblinear failed to converge, increase the number of iterations.\n",
      "  \"the number of iterations.\", ConvergenceWarning)\n",
      "/usr/local/lib/python3.5/dist-packages/sklearn/svm/_base.py:947: ConvergenceWarning: Liblinear failed to converge, increase the number of iterations.\n",
      "  \"the number of iterations.\", ConvergenceWarning)\n",
      "/usr/local/lib/python3.5/dist-packages/sklearn/svm/_base.py:947: ConvergenceWarning: Liblinear failed to converge, increase the number of iterations.\n",
      "  \"the number of iterations.\", ConvergenceWarning)\n",
      "/usr/local/lib/python3.5/dist-packages/sklearn/svm/_base.py:947: ConvergenceWarning: Liblinear failed to converge, increase the number of iterations.\n",
      "  \"the number of iterations.\", ConvergenceWarning)\n",
      "/usr/local/lib/python3.5/dist-packages/sklearn/svm/_base.py:947: ConvergenceWarning: Liblinear failed to converge, increase the number of iterations.\n",
      "  \"the number of iterations.\", ConvergenceWarning)\n",
      "/usr/local/lib/python3.5/dist-packages/sklearn/svm/_base.py:947: ConvergenceWarning: Liblinear failed to converge, increase the number of iterations.\n",
      "  \"the number of iterations.\", ConvergenceWarning)\n",
      "/usr/local/lib/python3.5/dist-packages/sklearn/svm/_base.py:947: ConvergenceWarning: Liblinear failed to converge, increase the number of iterations.\n",
      "  \"the number of iterations.\", ConvergenceWarning)\n",
      "/usr/local/lib/python3.5/dist-packages/sklearn/svm/_base.py:947: ConvergenceWarning: Liblinear failed to converge, increase the number of iterations.\n",
      "  \"the number of iterations.\", ConvergenceWarning)\n",
      "/usr/local/lib/python3.5/dist-packages/sklearn/svm/_base.py:947: ConvergenceWarning: Liblinear failed to converge, increase the number of iterations.\n",
      "  \"the number of iterations.\", ConvergenceWarning)\n",
      "/usr/local/lib/python3.5/dist-packages/sklearn/svm/_base.py:947: ConvergenceWarning: Liblinear failed to converge, increase the number of iterations.\n",
      "  \"the number of iterations.\", ConvergenceWarning)\n",
      "/usr/local/lib/python3.5/dist-packages/sklearn/svm/_base.py:947: ConvergenceWarning: Liblinear failed to converge, increase the number of iterations.\n",
      "  \"the number of iterations.\", ConvergenceWarning)\n",
      "/usr/local/lib/python3.5/dist-packages/sklearn/svm/_base.py:947: ConvergenceWarning: Liblinear failed to converge, increase the number of iterations.\n",
      "  \"the number of iterations.\", ConvergenceWarning)\n",
      "/usr/local/lib/python3.5/dist-packages/sklearn/svm/_base.py:947: ConvergenceWarning: Liblinear failed to converge, increase the number of iterations.\n",
      "  \"the number of iterations.\", ConvergenceWarning)\n",
      "/usr/local/lib/python3.5/dist-packages/sklearn/svm/_base.py:947: ConvergenceWarning: Liblinear failed to converge, increase the number of iterations.\n",
      "  \"the number of iterations.\", ConvergenceWarning)\n",
      "/usr/local/lib/python3.5/dist-packages/sklearn/svm/_base.py:947: ConvergenceWarning: Liblinear failed to converge, increase the number of iterations.\n",
      "  \"the number of iterations.\", ConvergenceWarning)\n",
      "/usr/local/lib/python3.5/dist-packages/sklearn/svm/_base.py:947: ConvergenceWarning: Liblinear failed to converge, increase the number of iterations.\n",
      "  \"the number of iterations.\", ConvergenceWarning)\n",
      "/usr/local/lib/python3.5/dist-packages/sklearn/svm/_base.py:947: ConvergenceWarning: Liblinear failed to converge, increase the number of iterations.\n",
      "  \"the number of iterations.\", ConvergenceWarning)\n",
      "/usr/local/lib/python3.5/dist-packages/sklearn/svm/_base.py:947: ConvergenceWarning: Liblinear failed to converge, increase the number of iterations.\n",
      "  \"the number of iterations.\", ConvergenceWarning)\n",
      "/usr/local/lib/python3.5/dist-packages/sklearn/svm/_base.py:947: ConvergenceWarning: Liblinear failed to converge, increase the number of iterations.\n",
      "  \"the number of iterations.\", ConvergenceWarning)\n",
      "/usr/local/lib/python3.5/dist-packages/sklearn/svm/_base.py:947: ConvergenceWarning: Liblinear failed to converge, increase the number of iterations.\n",
      "  \"the number of iterations.\", ConvergenceWarning)\n",
      "/usr/local/lib/python3.5/dist-packages/sklearn/svm/_base.py:947: ConvergenceWarning: Liblinear failed to converge, increase the number of iterations.\n",
      "  \"the number of iterations.\", ConvergenceWarning)\n",
      "/usr/local/lib/python3.5/dist-packages/sklearn/svm/_base.py:947: ConvergenceWarning: Liblinear failed to converge, increase the number of iterations.\n",
      "  \"the number of iterations.\", ConvergenceWarning)\n",
      "/usr/local/lib/python3.5/dist-packages/sklearn/svm/_base.py:947: ConvergenceWarning: Liblinear failed to converge, increase the number of iterations.\n",
      "  \"the number of iterations.\", ConvergenceWarning)\n",
      "/usr/local/lib/python3.5/dist-packages/sklearn/svm/_base.py:947: ConvergenceWarning: Liblinear failed to converge, increase the number of iterations.\n",
      "  \"the number of iterations.\", ConvergenceWarning)\n",
      "/usr/local/lib/python3.5/dist-packages/sklearn/svm/_base.py:947: ConvergenceWarning: Liblinear failed to converge, increase the number of iterations.\n",
      "  \"the number of iterations.\", ConvergenceWarning)\n",
      "/usr/local/lib/python3.5/dist-packages/sklearn/svm/_base.py:947: ConvergenceWarning: Liblinear failed to converge, increase the number of iterations.\n",
      "  \"the number of iterations.\", ConvergenceWarning)\n"
     ]
    },
    {
     "name": "stderr",
     "output_type": "stream",
     "text": [
      "/usr/local/lib/python3.5/dist-packages/sklearn/svm/_base.py:947: ConvergenceWarning: Liblinear failed to converge, increase the number of iterations.\n",
      "  \"the number of iterations.\", ConvergenceWarning)\n",
      "/usr/local/lib/python3.5/dist-packages/sklearn/svm/_base.py:947: ConvergenceWarning: Liblinear failed to converge, increase the number of iterations.\n",
      "  \"the number of iterations.\", ConvergenceWarning)\n",
      "/usr/local/lib/python3.5/dist-packages/sklearn/svm/_base.py:947: ConvergenceWarning: Liblinear failed to converge, increase the number of iterations.\n",
      "  \"the number of iterations.\", ConvergenceWarning)\n",
      "/usr/local/lib/python3.5/dist-packages/sklearn/svm/_base.py:947: ConvergenceWarning: Liblinear failed to converge, increase the number of iterations.\n",
      "  \"the number of iterations.\", ConvergenceWarning)\n",
      "/usr/local/lib/python3.5/dist-packages/sklearn/svm/_base.py:947: ConvergenceWarning: Liblinear failed to converge, increase the number of iterations.\n",
      "  \"the number of iterations.\", ConvergenceWarning)\n",
      "/usr/local/lib/python3.5/dist-packages/sklearn/svm/_base.py:947: ConvergenceWarning: Liblinear failed to converge, increase the number of iterations.\n",
      "  \"the number of iterations.\", ConvergenceWarning)\n",
      "/usr/local/lib/python3.5/dist-packages/sklearn/svm/_base.py:947: ConvergenceWarning: Liblinear failed to converge, increase the number of iterations.\n",
      "  \"the number of iterations.\", ConvergenceWarning)\n",
      "/usr/local/lib/python3.5/dist-packages/sklearn/svm/_base.py:947: ConvergenceWarning: Liblinear failed to converge, increase the number of iterations.\n",
      "  \"the number of iterations.\", ConvergenceWarning)\n",
      "/usr/local/lib/python3.5/dist-packages/sklearn/svm/_base.py:947: ConvergenceWarning: Liblinear failed to converge, increase the number of iterations.\n",
      "  \"the number of iterations.\", ConvergenceWarning)\n",
      "/usr/local/lib/python3.5/dist-packages/sklearn/svm/_base.py:947: ConvergenceWarning: Liblinear failed to converge, increase the number of iterations.\n",
      "  \"the number of iterations.\", ConvergenceWarning)\n",
      "/usr/local/lib/python3.5/dist-packages/sklearn/svm/_base.py:947: ConvergenceWarning: Liblinear failed to converge, increase the number of iterations.\n",
      "  \"the number of iterations.\", ConvergenceWarning)\n",
      "/usr/local/lib/python3.5/dist-packages/sklearn/svm/_base.py:947: ConvergenceWarning: Liblinear failed to converge, increase the number of iterations.\n",
      "  \"the number of iterations.\", ConvergenceWarning)\n",
      "/usr/local/lib/python3.5/dist-packages/sklearn/svm/_base.py:947: ConvergenceWarning: Liblinear failed to converge, increase the number of iterations.\n",
      "  \"the number of iterations.\", ConvergenceWarning)\n",
      "/usr/local/lib/python3.5/dist-packages/sklearn/svm/_base.py:947: ConvergenceWarning: Liblinear failed to converge, increase the number of iterations.\n",
      "  \"the number of iterations.\", ConvergenceWarning)\n",
      "/usr/local/lib/python3.5/dist-packages/sklearn/svm/_base.py:947: ConvergenceWarning: Liblinear failed to converge, increase the number of iterations.\n",
      "  \"the number of iterations.\", ConvergenceWarning)\n",
      "/usr/local/lib/python3.5/dist-packages/sklearn/svm/_base.py:947: ConvergenceWarning: Liblinear failed to converge, increase the number of iterations.\n",
      "  \"the number of iterations.\", ConvergenceWarning)\n",
      "/usr/local/lib/python3.5/dist-packages/sklearn/svm/_base.py:947: ConvergenceWarning: Liblinear failed to converge, increase the number of iterations.\n",
      "  \"the number of iterations.\", ConvergenceWarning)\n",
      "/usr/local/lib/python3.5/dist-packages/sklearn/svm/_base.py:947: ConvergenceWarning: Liblinear failed to converge, increase the number of iterations.\n",
      "  \"the number of iterations.\", ConvergenceWarning)\n",
      "/usr/local/lib/python3.5/dist-packages/sklearn/svm/_base.py:947: ConvergenceWarning: Liblinear failed to converge, increase the number of iterations.\n",
      "  \"the number of iterations.\", ConvergenceWarning)\n",
      "/usr/local/lib/python3.5/dist-packages/sklearn/svm/_base.py:947: ConvergenceWarning: Liblinear failed to converge, increase the number of iterations.\n",
      "  \"the number of iterations.\", ConvergenceWarning)\n",
      "/usr/local/lib/python3.5/dist-packages/sklearn/svm/_base.py:947: ConvergenceWarning: Liblinear failed to converge, increase the number of iterations.\n",
      "  \"the number of iterations.\", ConvergenceWarning)\n",
      "/usr/local/lib/python3.5/dist-packages/sklearn/svm/_base.py:947: ConvergenceWarning: Liblinear failed to converge, increase the number of iterations.\n",
      "  \"the number of iterations.\", ConvergenceWarning)\n",
      "/usr/local/lib/python3.5/dist-packages/sklearn/svm/_base.py:947: ConvergenceWarning: Liblinear failed to converge, increase the number of iterations.\n",
      "  \"the number of iterations.\", ConvergenceWarning)\n",
      "/usr/local/lib/python3.5/dist-packages/sklearn/svm/_base.py:947: ConvergenceWarning: Liblinear failed to converge, increase the number of iterations.\n",
      "  \"the number of iterations.\", ConvergenceWarning)\n",
      "/usr/local/lib/python3.5/dist-packages/sklearn/svm/_base.py:947: ConvergenceWarning: Liblinear failed to converge, increase the number of iterations.\n",
      "  \"the number of iterations.\", ConvergenceWarning)\n",
      "/usr/local/lib/python3.5/dist-packages/sklearn/svm/_base.py:947: ConvergenceWarning: Liblinear failed to converge, increase the number of iterations.\n",
      "  \"the number of iterations.\", ConvergenceWarning)\n",
      "/usr/local/lib/python3.5/dist-packages/sklearn/svm/_base.py:947: ConvergenceWarning: Liblinear failed to converge, increase the number of iterations.\n",
      "  \"the number of iterations.\", ConvergenceWarning)\n",
      "/usr/local/lib/python3.5/dist-packages/sklearn/svm/_base.py:947: ConvergenceWarning: Liblinear failed to converge, increase the number of iterations.\n",
      "  \"the number of iterations.\", ConvergenceWarning)\n",
      "/usr/local/lib/python3.5/dist-packages/sklearn/svm/_base.py:947: ConvergenceWarning: Liblinear failed to converge, increase the number of iterations.\n",
      "  \"the number of iterations.\", ConvergenceWarning)\n",
      "/usr/local/lib/python3.5/dist-packages/sklearn/svm/_base.py:947: ConvergenceWarning: Liblinear failed to converge, increase the number of iterations.\n",
      "  \"the number of iterations.\", ConvergenceWarning)\n",
      "/usr/local/lib/python3.5/dist-packages/sklearn/svm/_base.py:947: ConvergenceWarning: Liblinear failed to converge, increase the number of iterations.\n",
      "  \"the number of iterations.\", ConvergenceWarning)\n",
      "/usr/local/lib/python3.5/dist-packages/sklearn/svm/_base.py:947: ConvergenceWarning: Liblinear failed to converge, increase the number of iterations.\n",
      "  \"the number of iterations.\", ConvergenceWarning)\n",
      "/usr/local/lib/python3.5/dist-packages/sklearn/svm/_base.py:947: ConvergenceWarning: Liblinear failed to converge, increase the number of iterations.\n",
      "  \"the number of iterations.\", ConvergenceWarning)\n",
      "/usr/local/lib/python3.5/dist-packages/sklearn/svm/_base.py:947: ConvergenceWarning: Liblinear failed to converge, increase the number of iterations.\n",
      "  \"the number of iterations.\", ConvergenceWarning)\n",
      "/usr/local/lib/python3.5/dist-packages/sklearn/svm/_base.py:947: ConvergenceWarning: Liblinear failed to converge, increase the number of iterations.\n",
      "  \"the number of iterations.\", ConvergenceWarning)\n",
      "/usr/local/lib/python3.5/dist-packages/sklearn/svm/_base.py:947: ConvergenceWarning: Liblinear failed to converge, increase the number of iterations.\n",
      "  \"the number of iterations.\", ConvergenceWarning)\n",
      "/usr/local/lib/python3.5/dist-packages/sklearn/svm/_base.py:947: ConvergenceWarning: Liblinear failed to converge, increase the number of iterations.\n",
      "  \"the number of iterations.\", ConvergenceWarning)\n"
     ]
    }
   ],
   "source": [
    "from evaluation import *\n",
    "\n",
    "classifiers = ('LogR', 'LinSVM')\n",
    "\n",
    "results = dict()\n",
    "for data_name in tqdm_notebook(data.keys(), desc='dataset'):\n",
    "    for clf_name in tqdm_notebook(classifiers, desc='clf'):\n",
    "        \n",
    "        clf = select_classifier(clf_name=clf_name)\n",
    "        for feats_name in feats[data_name].keys():\n",
    "            y = data[data_name]['label'].values\n",
    "            exp_code = experiment_code(data_name, feats_name, clf_name)\n",
    "            results[exp_code] = predict_evaluate(clf, feats[data_name][feats_name], y)"
   ]
  },
  {
   "cell_type": "code",
   "execution_count": null,
   "metadata": {},
   "outputs": [],
   "source": [
    "save_results(results)"
   ]
  },
  {
   "cell_type": "code",
   "execution_count": 118,
   "metadata": {},
   "outputs": [
    {
     "name": "stdout",
     "output_type": "stream",
     "text": [
      "semeval19hate\n",
      "davidson\n",
      "pro-neu\n",
      "magazines\n",
      "pro-anti\n"
     ]
    },
    {
     "data": {
      "text/html": [
       "<div>\n",
       "<style scoped>\n",
       "    .dataframe tbody tr th:only-of-type {\n",
       "        vertical-align: middle;\n",
       "    }\n",
       "\n",
       "    .dataframe tbody tr th {\n",
       "        vertical-align: top;\n",
       "    }\n",
       "\n",
       "    .dataframe thead th {\n",
       "        text-align: right;\n",
       "    }\n",
       "</style>\n",
       "<table border=\"1\" class=\"dataframe\">\n",
       "  <thead>\n",
       "    <tr style=\"text-align: right;\">\n",
       "      <th></th>\n",
       "      <th></th>\n",
       "      <th>pro-neu</th>\n",
       "      <th>pro-anti</th>\n",
       "      <th>magazines</th>\n",
       "      <th>semeval19hate</th>\n",
       "      <th>davidson</th>\n",
       "    </tr>\n",
       "    <tr>\n",
       "      <th>classifier</th>\n",
       "      <th>features</th>\n",
       "      <th></th>\n",
       "      <th></th>\n",
       "      <th></th>\n",
       "      <th></th>\n",
       "      <th></th>\n",
       "    </tr>\n",
       "  </thead>\n",
       "  <tbody>\n",
       "    <tr>\n",
       "      <th rowspan=\"15\" valign=\"top\">LogR</th>\n",
       "      <th>tfidf</th>\n",
       "      <td>86.61</td>\n",
       "      <td>84.63</td>\n",
       "      <td>88.89</td>\n",
       "      <td>75.40</td>\n",
       "      <td>89.33</td>\n",
       "    </tr>\n",
       "    <tr>\n",
       "      <th>affectivespace</th>\n",
       "      <td>87.05</td>\n",
       "      <td>72.53</td>\n",
       "      <td>67.52</td>\n",
       "      <td>64.49</td>\n",
       "      <td>81.45</td>\n",
       "    </tr>\n",
       "    <tr>\n",
       "      <th>senticnet5</th>\n",
       "      <td>70.98</td>\n",
       "      <td>71.64</td>\n",
       "      <td>70.3</td>\n",
       "      <td>65.15</td>\n",
       "      <td>80.61</td>\n",
       "    </tr>\n",
       "    <tr>\n",
       "      <th>simon-custom</th>\n",
       "      <td>97.77</td>\n",
       "      <td>86.66</td>\n",
       "      <td>94.02</td>\n",
       "      <td>72.74</td>\n",
       "      <td>90.54</td>\n",
       "    </tr>\n",
       "    <tr>\n",
       "      <th>simon-senticnet5</th>\n",
       "      <td>96.43</td>\n",
       "      <td>82.77</td>\n",
       "      <td>88.25</td>\n",
       "      <td>71.23</td>\n",
       "      <td>89.90</td>\n",
       "    </tr>\n",
       "    <tr>\n",
       "      <th>affectivespace+senticnet5</th>\n",
       "      <td>70.98</td>\n",
       "      <td>72</td>\n",
       "      <td>70.3</td>\n",
       "      <td>67.31</td>\n",
       "      <td>83.19</td>\n",
       "    </tr>\n",
       "    <tr>\n",
       "      <th>tfidf+affectivespace</th>\n",
       "      <td>87.05</td>\n",
       "      <td>84.81</td>\n",
       "      <td>89.1</td>\n",
       "      <td>75.65</td>\n",
       "      <td>89.48</td>\n",
       "    </tr>\n",
       "    <tr>\n",
       "      <th>tfidf+senticnet5</th>\n",
       "      <td>90.62</td>\n",
       "      <td>86.75</td>\n",
       "      <td>86.75</td>\n",
       "      <td>75.07</td>\n",
       "      <td>89.02</td>\n",
       "    </tr>\n",
       "    <tr>\n",
       "      <th>simon-custom+affectivespace</th>\n",
       "      <td>97.77</td>\n",
       "      <td>86.66</td>\n",
       "      <td>94.02</td>\n",
       "      <td>72.95</td>\n",
       "      <td>90.49</td>\n",
       "    </tr>\n",
       "    <tr>\n",
       "      <th>simon-custom+senticnet5</th>\n",
       "      <td>97.32</td>\n",
       "      <td>86.66</td>\n",
       "      <td>94.23</td>\n",
       "      <td>72.86</td>\n",
       "      <td>90.51</td>\n",
       "    </tr>\n",
       "    <tr>\n",
       "      <th>simon-custom+affectivespace+senticnet5</th>\n",
       "      <td>97.32</td>\n",
       "      <td>86.66</td>\n",
       "      <td>94.23</td>\n",
       "      <td>72.92</td>\n",
       "      <td>90.52</td>\n",
       "    </tr>\n",
       "    <tr>\n",
       "      <th>simon-senticnet5+affectivespace</th>\n",
       "      <td>96.43</td>\n",
       "      <td>82.77</td>\n",
       "      <td>88.25</td>\n",
       "      <td>72.32</td>\n",
       "      <td>90.15</td>\n",
       "    </tr>\n",
       "    <tr>\n",
       "      <th>simon-senticnet5+senticnet5</th>\n",
       "      <td>96.43</td>\n",
       "      <td>82.16</td>\n",
       "      <td>88.03</td>\n",
       "      <td>71.91</td>\n",
       "      <td>90.17</td>\n",
       "    </tr>\n",
       "    <tr>\n",
       "      <th>tfidf+affectivespace+senticnet5</th>\n",
       "      <td>90.62</td>\n",
       "      <td>86.93</td>\n",
       "      <td>86.75</td>\n",
       "      <td>75.30</td>\n",
       "      <td>89.23</td>\n",
       "    </tr>\n",
       "    <tr>\n",
       "      <th>simon-senticnet5+affectivespace+senticnet5</th>\n",
       "      <td>96.43</td>\n",
       "      <td>82.16</td>\n",
       "      <td>88.03</td>\n",
       "      <td>72.40</td>\n",
       "      <td>90.19</td>\n",
       "    </tr>\n",
       "    <tr>\n",
       "      <th rowspan=\"15\" valign=\"top\">LinSVM</th>\n",
       "      <th>tfidf</th>\n",
       "      <td>95.98</td>\n",
       "      <td>87.54</td>\n",
       "      <td>94.02</td>\n",
       "      <td>73.98</td>\n",
       "      <td>89.76</td>\n",
       "    </tr>\n",
       "    <tr>\n",
       "      <th>affectivespace</th>\n",
       "      <td>86.61</td>\n",
       "      <td>72.88</td>\n",
       "      <td>67.74</td>\n",
       "      <td>65.29</td>\n",
       "      <td>82.22</td>\n",
       "    </tr>\n",
       "    <tr>\n",
       "      <th>senticnet5</th>\n",
       "      <td>83.48</td>\n",
       "      <td>72.26</td>\n",
       "      <td>70.51</td>\n",
       "      <td>65.10</td>\n",
       "      <td>80.65</td>\n",
       "    </tr>\n",
       "    <tr>\n",
       "      <th>simon-custom</th>\n",
       "      <td>98.21</td>\n",
       "      <td>85.25</td>\n",
       "      <td>94.66</td>\n",
       "      <td>72.81</td>\n",
       "      <td>90.58</td>\n",
       "    </tr>\n",
       "    <tr>\n",
       "      <th>simon-senticnet5</th>\n",
       "      <td>98.21</td>\n",
       "      <td>80.21</td>\n",
       "      <td>86.75</td>\n",
       "      <td>71.25</td>\n",
       "      <td>89.97</td>\n",
       "    </tr>\n",
       "    <tr>\n",
       "      <th>affectivespace+senticnet5</th>\n",
       "      <td>85.71</td>\n",
       "      <td>73.67</td>\n",
       "      <td>69.66</td>\n",
       "      <td>67.60</td>\n",
       "      <td>83.69</td>\n",
       "    </tr>\n",
       "    <tr>\n",
       "      <th>tfidf+affectivespace</th>\n",
       "      <td>95.98</td>\n",
       "      <td>88.43</td>\n",
       "      <td>94.44</td>\n",
       "      <td>73.93</td>\n",
       "      <td>89.74</td>\n",
       "    </tr>\n",
       "    <tr>\n",
       "      <th>tfidf+senticnet5</th>\n",
       "      <td>97.32</td>\n",
       "      <td>90.81</td>\n",
       "      <td>93.8</td>\n",
       "      <td>74.08</td>\n",
       "      <td>89.80</td>\n",
       "    </tr>\n",
       "    <tr>\n",
       "      <th>simon-custom+affectivespace</th>\n",
       "      <td>98.21</td>\n",
       "      <td>85.34</td>\n",
       "      <td>94.44</td>\n",
       "      <td>72.45</td>\n",
       "      <td>90.63</td>\n",
       "    </tr>\n",
       "    <tr>\n",
       "      <th>simon-custom+senticnet5</th>\n",
       "      <td>98.21</td>\n",
       "      <td>85.69</td>\n",
       "      <td>94.44</td>\n",
       "      <td>72.85</td>\n",
       "      <td>90.62</td>\n",
       "    </tr>\n",
       "    <tr>\n",
       "      <th>simon-custom+affectivespace+senticnet5</th>\n",
       "      <td>98.21</td>\n",
       "      <td>85.51</td>\n",
       "      <td>94.44</td>\n",
       "      <td>72.69</td>\n",
       "      <td>90.69</td>\n",
       "    </tr>\n",
       "    <tr>\n",
       "      <th>simon-senticnet5+affectivespace</th>\n",
       "      <td>98.21</td>\n",
       "      <td>80.39</td>\n",
       "      <td>86.75</td>\n",
       "      <td>72.10</td>\n",
       "      <td>90.32</td>\n",
       "    </tr>\n",
       "    <tr>\n",
       "      <th>simon-senticnet5+senticnet5</th>\n",
       "      <td>98.21</td>\n",
       "      <td>79.68</td>\n",
       "      <td>86.11</td>\n",
       "      <td>71.79</td>\n",
       "      <td>90.28</td>\n",
       "    </tr>\n",
       "    <tr>\n",
       "      <th>tfidf+affectivespace+senticnet5</th>\n",
       "      <td>97.32</td>\n",
       "      <td>90.9</td>\n",
       "      <td>93.8</td>\n",
       "      <td>74.16</td>\n",
       "      <td>89.82</td>\n",
       "    </tr>\n",
       "    <tr>\n",
       "      <th>simon-senticnet5+affectivespace+senticnet5</th>\n",
       "      <td>98.21</td>\n",
       "      <td>79.95</td>\n",
       "      <td>86.11</td>\n",
       "      <td>72.48</td>\n",
       "      <td>90.28</td>\n",
       "    </tr>\n",
       "  </tbody>\n",
       "</table>\n",
       "</div>"
      ],
      "text/plain": [
       "                                                      pro-neu pro-anti  \\\n",
       "classifier features                                                      \n",
       "LogR       tfidf                                        86.61    84.63   \n",
       "           affectivespace                               87.05    72.53   \n",
       "           senticnet5                                   70.98    71.64   \n",
       "           simon-custom                                 97.77    86.66   \n",
       "           simon-senticnet5                             96.43    82.77   \n",
       "           affectivespace+senticnet5                    70.98       72   \n",
       "           tfidf+affectivespace                         87.05    84.81   \n",
       "           tfidf+senticnet5                             90.62    86.75   \n",
       "           simon-custom+affectivespace                  97.77    86.66   \n",
       "           simon-custom+senticnet5                      97.32    86.66   \n",
       "           simon-custom+affectivespace+senticnet5       97.32    86.66   \n",
       "           simon-senticnet5+affectivespace              96.43    82.77   \n",
       "           simon-senticnet5+senticnet5                  96.43    82.16   \n",
       "           tfidf+affectivespace+senticnet5              90.62    86.93   \n",
       "           simon-senticnet5+affectivespace+senticnet5   96.43    82.16   \n",
       "LinSVM     tfidf                                        95.98    87.54   \n",
       "           affectivespace                               86.61    72.88   \n",
       "           senticnet5                                   83.48    72.26   \n",
       "           simon-custom                                 98.21    85.25   \n",
       "           simon-senticnet5                             98.21    80.21   \n",
       "           affectivespace+senticnet5                    85.71    73.67   \n",
       "           tfidf+affectivespace                         95.98    88.43   \n",
       "           tfidf+senticnet5                             97.32    90.81   \n",
       "           simon-custom+affectivespace                  98.21    85.34   \n",
       "           simon-custom+senticnet5                      98.21    85.69   \n",
       "           simon-custom+affectivespace+senticnet5       98.21    85.51   \n",
       "           simon-senticnet5+affectivespace              98.21    80.39   \n",
       "           simon-senticnet5+senticnet5                  98.21    79.68   \n",
       "           tfidf+affectivespace+senticnet5              97.32     90.9   \n",
       "           simon-senticnet5+affectivespace+senticnet5   98.21    79.95   \n",
       "\n",
       "                                                      magazines  \\\n",
       "classifier features                                               \n",
       "LogR       tfidf                                          88.89   \n",
       "           affectivespace                                 67.52   \n",
       "           senticnet5                                      70.3   \n",
       "           simon-custom                                   94.02   \n",
       "           simon-senticnet5                               88.25   \n",
       "           affectivespace+senticnet5                       70.3   \n",
       "           tfidf+affectivespace                            89.1   \n",
       "           tfidf+senticnet5                               86.75   \n",
       "           simon-custom+affectivespace                    94.02   \n",
       "           simon-custom+senticnet5                        94.23   \n",
       "           simon-custom+affectivespace+senticnet5         94.23   \n",
       "           simon-senticnet5+affectivespace                88.25   \n",
       "           simon-senticnet5+senticnet5                    88.03   \n",
       "           tfidf+affectivespace+senticnet5                86.75   \n",
       "           simon-senticnet5+affectivespace+senticnet5     88.03   \n",
       "LinSVM     tfidf                                          94.02   \n",
       "           affectivespace                                 67.74   \n",
       "           senticnet5                                     70.51   \n",
       "           simon-custom                                   94.66   \n",
       "           simon-senticnet5                               86.75   \n",
       "           affectivespace+senticnet5                      69.66   \n",
       "           tfidf+affectivespace                           94.44   \n",
       "           tfidf+senticnet5                                93.8   \n",
       "           simon-custom+affectivespace                    94.44   \n",
       "           simon-custom+senticnet5                        94.44   \n",
       "           simon-custom+affectivespace+senticnet5         94.44   \n",
       "           simon-senticnet5+affectivespace                86.75   \n",
       "           simon-senticnet5+senticnet5                    86.11   \n",
       "           tfidf+affectivespace+senticnet5                 93.8   \n",
       "           simon-senticnet5+affectivespace+senticnet5     86.11   \n",
       "\n",
       "                                                       semeval19hate  davidson  \n",
       "classifier features                                                             \n",
       "LogR       tfidf                                               75.40     89.33  \n",
       "           affectivespace                                      64.49     81.45  \n",
       "           senticnet5                                          65.15     80.61  \n",
       "           simon-custom                                        72.74     90.54  \n",
       "           simon-senticnet5                                    71.23     89.90  \n",
       "           affectivespace+senticnet5                           67.31     83.19  \n",
       "           tfidf+affectivespace                                75.65     89.48  \n",
       "           tfidf+senticnet5                                    75.07     89.02  \n",
       "           simon-custom+affectivespace                         72.95     90.49  \n",
       "           simon-custom+senticnet5                             72.86     90.51  \n",
       "           simon-custom+affectivespace+senticnet5              72.92     90.52  \n",
       "           simon-senticnet5+affectivespace                     72.32     90.15  \n",
       "           simon-senticnet5+senticnet5                         71.91     90.17  \n",
       "           tfidf+affectivespace+senticnet5                     75.30     89.23  \n",
       "           simon-senticnet5+affectivespace+senticnet5          72.40     90.19  \n",
       "LinSVM     tfidf                                               73.98     89.76  \n",
       "           affectivespace                                      65.29     82.22  \n",
       "           senticnet5                                          65.10     80.65  \n",
       "           simon-custom                                        72.81     90.58  \n",
       "           simon-senticnet5                                    71.25     89.97  \n",
       "           affectivespace+senticnet5                           67.60     83.69  \n",
       "           tfidf+affectivespace                                73.93     89.74  \n",
       "           tfidf+senticnet5                                    74.08     89.80  \n",
       "           simon-custom+affectivespace                         72.45     90.63  \n",
       "           simon-custom+senticnet5                             72.85     90.62  \n",
       "           simon-custom+affectivespace+senticnet5              72.69     90.69  \n",
       "           simon-senticnet5+affectivespace                     72.10     90.32  \n",
       "           simon-senticnet5+senticnet5                         71.79     90.28  \n",
       "           tfidf+affectivespace+senticnet5                     74.16     89.82  \n",
       "           simon-senticnet5+affectivespace+senticnet5          72.48     90.28  "
      ]
     },
     "execution_count": 118,
     "metadata": {},
     "output_type": "execute_result"
    }
   ],
   "source": [
    "features_order = (\n",
    "    'tfidf', 'affectivespace', 'senticnet5', 'simon-custom', 'simon-senticnet5',\n",
    "    'affectivespace+senticnet5', 'tfidf+affectivespace', 'tfidf+senticnet5',\n",
    "    'simon-custom+affectivespace', 'simon-custom+senticnet5', 'simon-custom+affectivespace+senticnet5', \n",
    "    'simon-senticnet5+affectivespace', 'simon-senticnet5+senticnet5',\n",
    "    'tfidf+affectivespace+senticnet5', 'simon-senticnet5+affectivespace+senticnet5',\n",
    ")\n",
    "\n",
    "def get_f1score(results, key):\n",
    "    return results[key].loc['weighted avg', 'f1-score']\n",
    "\n",
    "iterables = [[clf_name for clf_name in classifiers],\n",
    "             [feats for feats in features_order]]\n",
    "mi = pd.MultiIndex.from_product(iterables, names=['classifier', 'features'])\n",
    "view = pd.DataFrame(columns=('pro-neu', 'pro-anti', 'magazines'), index=mi)\n",
    "c = 0\n",
    "for data_name in data.keys():\n",
    "    print(data_name)\n",
    "    for clf_name in classifiers:\n",
    "        for feats_name in features_order:\n",
    "            exp_code = \"{}_{}_{}\".format(data_name, feats_name, clf_name)\n",
    "            view.loc[(clf_name, feats_name), data_name] = get_f1score(results, exp_code)\n",
    "            c += 1\n",
    "view"
   ]
  },
  {
   "cell_type": "code",
   "execution_count": 119,
   "metadata": {},
   "outputs": [],
   "source": [
    "x = view.reset_index()\n",
    "# x = x[~x['features'].str.contains('simon-custom')]"
   ]
  },
  {
   "cell_type": "code",
   "execution_count": 120,
   "metadata": {},
   "outputs": [
    {
     "name": "stdout",
     "output_type": "stream",
     "text": [
      "k: 30       N: 5       a: 0.01\n",
      "chi2:  91.68000000000005\n",
      "Friedman's F:  6.877719429857475\n",
      "F(29,116)|0.01:  1.8784961968012859\n"
     ]
    },
    {
     "data": {
      "text/html": [
       "<div>\n",
       "<style scoped>\n",
       "    .dataframe tbody tr th:only-of-type {\n",
       "        vertical-align: middle;\n",
       "    }\n",
       "\n",
       "    .dataframe tbody tr th {\n",
       "        vertical-align: top;\n",
       "    }\n",
       "\n",
       "    .dataframe thead th {\n",
       "        text-align: right;\n",
       "    }\n",
       "</style>\n",
       "<table border=\"1\" class=\"dataframe\">\n",
       "  <thead>\n",
       "    <tr style=\"text-align: right;\">\n",
       "      <th></th>\n",
       "      <th>0</th>\n",
       "    </tr>\n",
       "  </thead>\n",
       "  <tbody>\n",
       "    <tr>\n",
       "      <th>LinSVM simon-custom+senticnet5</th>\n",
       "      <td>6.8</td>\n",
       "    </tr>\n",
       "    <tr>\n",
       "      <th>LinSVM simon-custom+affectivespace+senticnet5</th>\n",
       "      <td>7.2</td>\n",
       "    </tr>\n",
       "    <tr>\n",
       "      <th>LinSVM simon-custom</th>\n",
       "      <td>7.3</td>\n",
       "    </tr>\n",
       "    <tr>\n",
       "      <th>LinSVM simon-custom+affectivespace</th>\n",
       "      <td>8</td>\n",
       "    </tr>\n",
       "    <tr>\n",
       "      <th>LogR simon-custom+affectivespace+senticnet5</th>\n",
       "      <td>8.7</td>\n",
       "    </tr>\n",
       "    <tr>\n",
       "      <th>LogR simon-custom+affectivespace</th>\n",
       "      <td>8.8</td>\n",
       "    </tr>\n",
       "    <tr>\n",
       "      <th>LogR simon-custom+senticnet5</th>\n",
       "      <td>9.1</td>\n",
       "    </tr>\n",
       "    <tr>\n",
       "      <th>LogR simon-custom</th>\n",
       "      <td>9.2</td>\n",
       "    </tr>\n",
       "    <tr>\n",
       "      <th>LinSVM tfidf+affectivespace+senticnet5</th>\n",
       "      <td>9.4</td>\n",
       "    </tr>\n",
       "    <tr>\n",
       "      <th>LinSVM tfidf+senticnet5</th>\n",
       "      <td>10</td>\n",
       "    </tr>\n",
       "    <tr>\n",
       "      <th>LinSVM tfidf+affectivespace</th>\n",
       "      <td>10.8</td>\n",
       "    </tr>\n",
       "    <tr>\n",
       "      <th>LinSVM tfidf</th>\n",
       "      <td>11.7</td>\n",
       "    </tr>\n",
       "    <tr>\n",
       "      <th>LogR tfidf+affectivespace+senticnet5</th>\n",
       "      <td>14.6</td>\n",
       "    </tr>\n",
       "    <tr>\n",
       "      <th>LogR tfidf+affectivespace</th>\n",
       "      <td>14.7</td>\n",
       "    </tr>\n",
       "    <tr>\n",
       "      <th>LinSVM simon-senticnet5+affectivespace</th>\n",
       "      <td>15</td>\n",
       "    </tr>\n",
       "    <tr>\n",
       "      <th>LogR tfidf+senticnet5</th>\n",
       "      <td>15.2</td>\n",
       "    </tr>\n",
       "    <tr>\n",
       "      <th>LinSVM simon-senticnet5+affectivespace+senticnet5</th>\n",
       "      <td>15.5</td>\n",
       "    </tr>\n",
       "    <tr>\n",
       "      <th>LogR tfidf</th>\n",
       "      <td>15.9</td>\n",
       "    </tr>\n",
       "    <tr>\n",
       "      <th>LogR simon-senticnet5+affectivespace</th>\n",
       "      <td>16.5</td>\n",
       "    </tr>\n",
       "    <tr>\n",
       "      <th>LogR simon-senticnet5+affectivespace+senticnet5</th>\n",
       "      <td>16.7</td>\n",
       "    </tr>\n",
       "    <tr>\n",
       "      <th>LinSVM simon-senticnet5+senticnet5</th>\n",
       "      <td>16.9</td>\n",
       "    </tr>\n",
       "    <tr>\n",
       "      <th>LinSVM simon-senticnet5</th>\n",
       "      <td>17</td>\n",
       "    </tr>\n",
       "    <tr>\n",
       "      <th>LogR simon-senticnet5+senticnet5</th>\n",
       "      <td>17.5</td>\n",
       "    </tr>\n",
       "    <tr>\n",
       "      <th>LogR simon-senticnet5</th>\n",
       "      <td>17.9</td>\n",
       "    </tr>\n",
       "    <tr>\n",
       "      <th>LinSVM affectivespace+senticnet5</th>\n",
       "      <td>26</td>\n",
       "    </tr>\n",
       "    <tr>\n",
       "      <th>LinSVM affectivespace</th>\n",
       "      <td>26.9</td>\n",
       "    </tr>\n",
       "    <tr>\n",
       "      <th>LogR affectivespace+senticnet5</th>\n",
       "      <td>27.4</td>\n",
       "    </tr>\n",
       "    <tr>\n",
       "      <th>LogR affectivespace</th>\n",
       "      <td>27.7</td>\n",
       "    </tr>\n",
       "    <tr>\n",
       "      <th>LinSVM senticnet5</th>\n",
       "      <td>27.8</td>\n",
       "    </tr>\n",
       "    <tr>\n",
       "      <th>LogR senticnet5</th>\n",
       "      <td>28.8</td>\n",
       "    </tr>\n",
       "  </tbody>\n",
       "</table>\n",
       "</div>"
      ],
      "text/plain": [
       "                                                      0\n",
       "LinSVM simon-custom+senticnet5                      6.8\n",
       "LinSVM simon-custom+affectivespace+senticnet5       7.2\n",
       "LinSVM simon-custom                                 7.3\n",
       "LinSVM simon-custom+affectivespace                    8\n",
       "LogR simon-custom+affectivespace+senticnet5         8.7\n",
       "LogR simon-custom+affectivespace                    8.8\n",
       "LogR simon-custom+senticnet5                        9.1\n",
       "LogR simon-custom                                   9.2\n",
       "LinSVM tfidf+affectivespace+senticnet5              9.4\n",
       "LinSVM tfidf+senticnet5                              10\n",
       "LinSVM tfidf+affectivespace                        10.8\n",
       "LinSVM tfidf                                       11.7\n",
       "LogR tfidf+affectivespace+senticnet5               14.6\n",
       "LogR tfidf+affectivespace                          14.7\n",
       "LinSVM simon-senticnet5+affectivespace               15\n",
       "LogR tfidf+senticnet5                              15.2\n",
       "LinSVM simon-senticnet5+affectivespace+senticnet5  15.5\n",
       "LogR tfidf                                         15.9\n",
       "LogR simon-senticnet5+affectivespace               16.5\n",
       "LogR simon-senticnet5+affectivespace+senticnet5    16.7\n",
       "LinSVM simon-senticnet5+senticnet5                 16.9\n",
       "LinSVM simon-senticnet5                              17\n",
       "LogR simon-senticnet5+senticnet5                   17.5\n",
       "LogR simon-senticnet5                              17.9\n",
       "LinSVM affectivespace+senticnet5                     26\n",
       "LinSVM affectivespace                              26.9\n",
       "LogR affectivespace+senticnet5                     27.4\n",
       "LogR affectivespace                                27.7\n",
       "LinSVM senticnet5                                  27.8\n",
       "LogR senticnet5                                    28.8"
      ]
     },
     "execution_count": 120,
     "metadata": {},
     "output_type": "execute_result"
    }
   ],
   "source": [
    "_, friedman_list = stats.main(x)\n",
    "friedman_list"
   ]
  },
  {
   "cell_type": "code",
   "execution_count": null,
   "metadata": {},
   "outputs": [],
   "source": [
    "!/notebooks/scripts/trainingbot.sh \"SenticReady!\""
   ]
  },
  {
   "cell_type": "code",
   "execution_count": null,
   "metadata": {},
   "outputs": [],
   "source": [
    "raise\n",
    "view.to_pickle(\"../results/2020-05-20/view.pck\")"
   ]
  }
 ],
 "metadata": {
  "kernelspec": {
   "display_name": "Python 3",
   "language": "python",
   "name": "python3"
  },
  "language_info": {
   "codemirror_mode": {
    "name": "ipython",
    "version": 3
   },
   "file_extension": ".py",
   "mimetype": "text/x-python",
   "name": "python",
   "nbconvert_exporter": "python",
   "pygments_lexer": "ipython3",
   "version": "3.5.2"
  }
 },
 "nbformat": 4,
 "nbformat_minor": 2
}
